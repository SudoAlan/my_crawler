{
 "cells": [
  {
   "cell_type": "code",
   "execution_count": 1,
   "id": "ffa76b62-b549-4808-bc79-f868a268dccf",
   "metadata": {},
   "outputs": [],
   "source": [
    "import requests\n",
    "from bs4 import BeautifulSoup\n",
    "import csv\n",
    "\n",
    "headers = {'user-agent': 'Mozilla/5.0 (Macintosh Intel Mac OS X 10_13_4) AppleWebKit/537.36 (KHTML, like Gecko) Chrome/66.0.3359.181 Safari/537.36'}\n",
    "\n",
    "target_url = 'https://news.cnyes.com/news/cat/headline?exp=a';\n",
    "\n",
    "result = requests.get(target_url, headers=headers)\n",
    "\n",
    "bs = BeautifulSoup(result.text,'html.parser')\n",
    "\n",
    "blocks = bs.findAll(\"a\", {\"class\" : \"_1Zdp\"})\n",
    "\n",
    "content_urls = []\n",
    "for block in blocks:\n",
    "    path = block.get('href')\n",
    "    content_url = 'https://news.cnyes.com' + path\n",
    "    content_urls.append(content_url)\n",
    "    \n",
    "output_file_name = 'cnyes.csv'\n",
    "\n",
    "with open(output_file_name, 'w', newline='') as csvfile:\n",
    "    writer = csv.writer(csvfile)\n",
    "    writer.writerow(['title', 'content'])\n",
    "\n",
    "    for url in content_urls:\n",
    "        result = requests.get(url, headers=headers)\n",
    "        bs = BeautifulSoup(result.text,'html.parser')\n",
    "        title = bs.find('h1').text\n",
    "        content = bs.find(\"div\", {\"class\" : \"_2E8y\"}).text\n",
    "        writer.writerow([title, content])"
   ]
  },
  {
   "cell_type": "code",
   "execution_count": null,
   "id": "65d77149-41ba-49ed-8776-a6c9b322ca21",
   "metadata": {},
   "outputs": [],
   "source": []
  }
 ],
 "metadata": {
  "kernelspec": {
   "display_name": "Python 3",
   "language": "python",
   "name": "python3"
  },
  "language_info": {
   "codemirror_mode": {
    "name": "ipython",
    "version": 3
   },
   "file_extension": ".py",
   "mimetype": "text/x-python",
   "name": "python",
   "nbconvert_exporter": "python",
   "pygments_lexer": "ipython3",
   "version": "3.8.8"
  }
 },
 "nbformat": 4,
 "nbformat_minor": 5
}
